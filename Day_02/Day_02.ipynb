{
 "cells": [
  {
   "cell_type": "code",
   "execution_count": 3,
   "id": "cbd09125-7356-42fa-9954-ce2dcb7efc22",
   "metadata": {},
   "outputs": [
    {
     "name": "stdout",
     "output_type": "stream",
     "text": [
      "On branch main\n",
      "Your branch is up to date with 'origin/main'.\n",
      "\n",
      "Changes to be committed:\n",
      "  (use \"git restore --staged <file>...\" to unstage)\n",
      "\tnew file:   ../Day_01/.ipynb_checkpoints/Day_01-checkpoint.ipynb\n",
      "\tnew file:   ../Day_01/Day_01.ipynb\n",
      "\n",
      "Changes not staged for commit:\n",
      "  (use \"git add <file>...\" to update what will be committed)\n",
      "  (use \"git restore <file>...\" to discard changes in working directory)\n",
      "\tmodified:   ../Day_01/.ipynb_checkpoints/Day_01-checkpoint.ipynb\n",
      "\tmodified:   ../Day_01/Day_01.ipynb\n",
      "\n",
      "Untracked files:\n",
      "  (use \"git add <file>...\" to include in what will be committed)\n",
      "\t../Day_01/input.txt\n",
      "\t../Day_01/test.txt\n",
      "\t./\n",
      "\n"
     ]
    }
   ],
   "source": [
    "!git status"
   ]
  },
  {
   "cell_type": "code",
   "execution_count": 7,
   "id": "f1cc856e-8fa3-41f1-8dc7-0120667d4d7c",
   "metadata": {},
   "outputs": [
    {
     "name": "stderr",
     "output_type": "stream",
     "text": [
      "warning: in the working copy of 'Day_02/.ipynb_checkpoints/Day_02-checkpoint.ipynb', LF will be replaced by CRLF the next time Git touches it\n",
      "warning: in the working copy of 'Day_02/Day_02.ipynb', LF will be replaced by CRLF the next time Git touches it\n"
     ]
    }
   ],
   "source": [
    "!git add ../Day_01/"
   ]
  },
  {
   "cell_type": "code",
   "execution_count": 9,
   "id": "a7f149b5-c030-497d-8849-5f8d1cbc5c94",
   "metadata": {},
   "outputs": [
    {
     "name": "stdout",
     "output_type": "stream",
     "text": [
      "On branch main\n",
      "Your branch is up to date with 'origin/main'.\n",
      "\n",
      "Changes to be committed:\n",
      "  (use \"git restore --staged <file>...\" to unstage)\n",
      "\tnew file:   ../Day_01/.ipynb_checkpoints/Day_01-checkpoint.ipynb\n",
      "\tnew file:   ../Day_01/Day_01.ipynb\n",
      "\tnew file:   .ipynb_checkpoints/Day_02-checkpoint.ipynb\n",
      "\tnew file:   Day_02.ipynb\n",
      "\n",
      "Changes not staged for commit:\n",
      "  (use \"git add <file>...\" to update what will be committed)\n",
      "  (use \"git restore <file>...\" to discard changes in working directory)\n",
      "\tmodified:   ../Day_01/.ipynb_checkpoints/Day_01-checkpoint.ipynb\n",
      "\tmodified:   ../Day_01/Day_01.ipynb\n",
      "\n",
      "Untracked files:\n",
      "  (use \"git add <file>...\" to include in what will be committed)\n",
      "\t../Day_01/input.txt\n",
      "\t../Day_01/test.txt\n",
      "\n"
     ]
    }
   ],
   "source": [
    "!git status"
   ]
  },
  {
   "cell_type": "code",
   "execution_count": null,
   "id": "d3587b58-91a9-4d2f-a29a-2ceb35669c0e",
   "metadata": {},
   "outputs": [],
   "source": []
  }
 ],
 "metadata": {
  "kernelspec": {
   "display_name": "Python 3 (ipykernel)",
   "language": "python",
   "name": "python3"
  },
  "language_info": {
   "codemirror_mode": {
    "name": "ipython",
    "version": 3
   },
   "file_extension": ".py",
   "mimetype": "text/x-python",
   "name": "python",
   "nbconvert_exporter": "python",
   "pygments_lexer": "ipython3",
   "version": "3.9.20"
  }
 },
 "nbformat": 4,
 "nbformat_minor": 5
}
